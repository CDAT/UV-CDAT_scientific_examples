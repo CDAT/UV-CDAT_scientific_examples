{
 "cells": [
  {
   "cell_type": "code",
   "execution_count": null,
   "metadata": {
    "collapsed": true
   },
   "outputs": [],
   "source": [
    "################################################################################################# \n",
    "# This Python script plots JJA climatology at surface level, which given from one of CMIP5 models\n",
    "# \n",
    "# Ji-Woo Lee, LLNL, August 2016\n",
    "################################################################################################# \n",
    "import cdms2 as cdms\n",
    "import cdutil\n",
    "import cdtime\n",
    "import vcs\n",
    "import MV2\n",
    "\n",
    "#================================================================================================\n",
    "# Data\n",
    "#------------------------------------------------------------------------------------------------\n",
    "# open file from local -- DATA was downloaded from ESGF\n",
    "odir = '/cmip5_css02/data/cmip5/output1/NIMR-KMA/HadGEM2-AO/historical/mon/atmos/Amon/r1i1p1/tas/1/' # Put your data directory here\n",
    "nc = 'tas_Amon_HadGEM2-AO_historical_r1i1p1_186001-200512.nc'\n",
    "f = cdms.open(odir+nc)\n",
    "\n",
    "# Load variable ---\n",
    "d = f('tas',latitude=(-60,80),longitude=(0,360))\n",
    "d = MV2.subtract(d, 273.15) # K to C\n",
    "d.units='degree C'\n",
    "\n",
    "# Time period for climatology calculation ---\n",
    "start_year = 1949\n",
    "end_year = 2010\n",
    "\n",
    "start_time = cdtime.comptime(start_year)\n",
    "end_time =cdtime.comptime(end_year)\n",
    "\n",
    "# Calculate JJA seasonal climatology ---\n",
    "d_jja = cdutil.JJA.climatology(d(time=(start_time,end_time)))\n",
    "d_jja.units = d.units\n",
    "d_jja.long_name = 'JJA clim. TAS, '+str(start_year)+'-'+str(end_year)\n",
    "d_jja.id = 'tas'\n",
    "d_jja.model = 'HadGEM2-AO'\n",
    "\n",
    "#================================================================================================\n",
    "# Plot\n",
    "#------------------------------------------------------------------------------------------------\n",
    "# Create canvas ---\n",
    "canvas = vcs.init()\n",
    "canvas.open()\n",
    "\n",
    "# Set plot type ---\n",
    "iso = canvas.createisofill()\n",
    "\n",
    "# Color setup ---\n",
    "canvas.setcolormap(\"rainbow\")\n",
    "\n",
    "levels = range(-14,40,2) # [-16, -14, -12, -10, -8, -6, -4, -2, 0, 2, 4, 6, 8, 10, 12, 14, 16, 18, 20, 22, 24, 26, 28, 30, 32, 34, 36, 38]\n",
    "iso.levels = levels\n",
    "iso.missing = (0,0,0,0)\n",
    "colors = vcs.getcolors(levels,colors=range(16,240))\n",
    "iso.fillareacolors = colors\n",
    "\n",
    "# Plot ---\n",
    "canvas.plot(d_jja,iso)\n",
    "\n",
    "# Set title ---\n",
    "plot_title = vcs.createtext()\n",
    "plot_title.x = .5\n",
    "plot_title.y = .98\n",
    "plot_title.height = 24\n",
    "plot_title.halign = \"center\"\n",
    "plot_title.valign = \"top\"\n",
    "plot_title.color=\"black\"\n",
    "plot_title.string = d_jja.model+' '+'ex1_tas_jja_clim'\n",
    "canvas.plot(plot_title)\n",
    "\n",
    "# Drop output as image file\n",
    "canvas.png(\"example_sfc_tas_jja_clim\")\n"
   ]
  },
  {
   "cell_type": "code",
   "execution_count": null,
   "metadata": {
    "collapsed": true
   },
   "outputs": [],
   "source": []
  }
 ],
 "metadata": {
  "kernelspec": {
   "display_name": "Python [conda env:uvcdat-2.10]",
   "language": "python",
   "name": "conda-env-uvcdat-2.10-py"
  },
  "language_info": {
   "codemirror_mode": {
    "name": "ipython",
    "version": 2
   },
   "file_extension": ".py",
   "mimetype": "text/x-python",
   "name": "python",
   "nbconvert_exporter": "python",
   "pygments_lexer": "ipython2",
   "version": "2.7.13"
  }
 },
 "nbformat": 4,
 "nbformat_minor": 2
}
